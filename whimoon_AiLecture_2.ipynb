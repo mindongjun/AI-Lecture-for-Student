{
  "nbformat": 4,
  "nbformat_minor": 0,
  "metadata": {
    "kernelspec": {
      "display_name": "Python 3",
      "language": "python",
      "name": "python3"
    },
    "language_info": {
      "codemirror_mode": {
        "name": "ipython",
        "version": 3
      },
      "file_extension": ".py",
      "mimetype": "text/x-python",
      "name": "python",
      "nbconvert_exporter": "python",
      "pygments_lexer": "ipython3",
      "version": "3.7.4"
    },
    "colab": {
      "name": "whimoon_AiLecture-2.ipynb",
      "provenance": [],
      "collapsed_sections": [],
      "include_colab_link": true
    }
  },
  "cells": [
    {
      "cell_type": "markdown",
      "metadata": {
        "id": "view-in-github",
        "colab_type": "text"
      },
      "source": [
        "<a href=\"https://colab.research.google.com/github/mindongjun/whimoon_AiLecture/blob/main/whimoon_AiLecture_2.ipynb\" target=\"_parent\"><img src=\"https://colab.research.google.com/assets/colab-badge.svg\" alt=\"Open In Colab\"/></a>"
      ]
    },
    {
      "cell_type": "markdown",
      "metadata": {
        "id": "8qGSiXWe6Bha"
      },
      "source": [
        "# 인공지능(AI) 개념의 이해와 실습 특강-2일차\n",
        "\n",
        "## 강사\n",
        "이상근 고려대학교 정보보호대학원 조교수\n",
        "\n",
        "민동준(mindongjun@korea.ac.kr) 고려대학교 정보보호대학원 정보보호학과 석사수료\n",
        "\n",
        "조형민(whgudals159@korea.ac.kr) 고려대학교 정보보호대학원 정보보호학과 석사수료"
      ]
    },
    {
      "cell_type": "markdown",
      "metadata": {
        "id": "lb45zcUqqGBT"
      },
      "source": [
        "# Medical Charge 데이터 셋 불러오기"
      ]
    },
    {
      "cell_type": "markdown",
      "metadata": {
        "id": "7L0dxvQM1X7Y"
      },
      "source": [
        "- Task : 선형회귀를 사용한 보험료 예측\n",
        "\n",
        "- Dataset : kaggle 공개 Dataset. 미국 의료보험료 데이터 (https://www.kaggle.com/mirichoi0218/insurance)"
      ]
    },
    {
      "cell_type": "code",
      "metadata": {
        "colab": {
          "base_uri": "https://localhost:8080/",
          "height": 204
        },
        "id": "f23AJuj3qGBW",
        "outputId": "6efef351-c912-4dab-bba3-2a477a293607"
      },
      "source": [
        "import pandas as pd\n",
        "\n",
        "url = 'https://raw.githubusercontent.com/mindongjun/whimoon_AiLecture/main/insurance.csv'\n",
        "df = pd.read_csv(url)\n",
        "df.head()"
      ],
      "execution_count": 1,
      "outputs": [
        {
          "output_type": "execute_result",
          "data": {
            "text/html": [
              "<div>\n",
              "<style scoped>\n",
              "    .dataframe tbody tr th:only-of-type {\n",
              "        vertical-align: middle;\n",
              "    }\n",
              "\n",
              "    .dataframe tbody tr th {\n",
              "        vertical-align: top;\n",
              "    }\n",
              "\n",
              "    .dataframe thead th {\n",
              "        text-align: right;\n",
              "    }\n",
              "</style>\n",
              "<table border=\"1\" class=\"dataframe\">\n",
              "  <thead>\n",
              "    <tr style=\"text-align: right;\">\n",
              "      <th></th>\n",
              "      <th>age</th>\n",
              "      <th>sex</th>\n",
              "      <th>bmi</th>\n",
              "      <th>children</th>\n",
              "      <th>smoker</th>\n",
              "      <th>region</th>\n",
              "      <th>charges</th>\n",
              "    </tr>\n",
              "  </thead>\n",
              "  <tbody>\n",
              "    <tr>\n",
              "      <th>0</th>\n",
              "      <td>19</td>\n",
              "      <td>female</td>\n",
              "      <td>27.900</td>\n",
              "      <td>0</td>\n",
              "      <td>yes</td>\n",
              "      <td>southwest</td>\n",
              "      <td>16884.92400</td>\n",
              "    </tr>\n",
              "    <tr>\n",
              "      <th>1</th>\n",
              "      <td>18</td>\n",
              "      <td>male</td>\n",
              "      <td>33.770</td>\n",
              "      <td>1</td>\n",
              "      <td>no</td>\n",
              "      <td>southeast</td>\n",
              "      <td>1725.55230</td>\n",
              "    </tr>\n",
              "    <tr>\n",
              "      <th>2</th>\n",
              "      <td>28</td>\n",
              "      <td>male</td>\n",
              "      <td>33.000</td>\n",
              "      <td>3</td>\n",
              "      <td>no</td>\n",
              "      <td>southeast</td>\n",
              "      <td>4449.46200</td>\n",
              "    </tr>\n",
              "    <tr>\n",
              "      <th>3</th>\n",
              "      <td>33</td>\n",
              "      <td>male</td>\n",
              "      <td>22.705</td>\n",
              "      <td>0</td>\n",
              "      <td>no</td>\n",
              "      <td>northwest</td>\n",
              "      <td>21984.47061</td>\n",
              "    </tr>\n",
              "    <tr>\n",
              "      <th>4</th>\n",
              "      <td>32</td>\n",
              "      <td>male</td>\n",
              "      <td>28.880</td>\n",
              "      <td>0</td>\n",
              "      <td>no</td>\n",
              "      <td>northwest</td>\n",
              "      <td>3866.85520</td>\n",
              "    </tr>\n",
              "  </tbody>\n",
              "</table>\n",
              "</div>"
            ],
            "text/plain": [
              "   age     sex     bmi  children smoker     region      charges\n",
              "0   19  female  27.900         0    yes  southwest  16884.92400\n",
              "1   18    male  33.770         1     no  southeast   1725.55230\n",
              "2   28    male  33.000         3     no  southeast   4449.46200\n",
              "3   33    male  22.705         0     no  northwest  21984.47061\n",
              "4   32    male  28.880         0     no  northwest   3866.85520"
            ]
          },
          "metadata": {
            "tags": []
          },
          "execution_count": 1
        }
      ]
    },
    {
      "cell_type": "markdown",
      "metadata": {
        "id": "OHX08thH2Iz4"
      },
      "source": [
        "###열 데이터 설명\n",
        "\n",
        "- age: 기본 수혜자의 나이\n",
        "- sex: 보험 계약자 성별, (여성, 남성)\n",
        "- bmi: 체질량 지수, 키에 비해 상대적으로 높거나 낮은 체중, 신장 대 체중의 비율을 사용하여 체중의 객관적인 지수 $(kg / m ^ 2)$\n",
        "- children: 건강보험 적용 자녀 수 / 피부양자 수\n",
        "- smoker: 흡연 여부\n",
        "- region: 미국에서 수혜자의 주거 지역, (northeast, southeast, southwest, northwest)\n",
        "- charges: 건강보험에서 청구하는 개인 의료비"
      ]
    },
    {
      "cell_type": "markdown",
      "metadata": {
        "id": "966mB6UMqGBX"
      },
      "source": [
        "# 중복된 데이터(행) 확인"
      ]
    },
    {
      "cell_type": "code",
      "metadata": {
        "colab": {
          "base_uri": "https://localhost:8080/"
        },
        "id": "K13el4zxqGBY",
        "outputId": "41ff1460-58f3-4adf-c064-c0525d67de89"
      },
      "source": [
        "print('# of duplicated rows:', df.duplicated().sum())"
      ],
      "execution_count": 2,
      "outputs": [
        {
          "output_type": "stream",
          "text": [
            "# of duplicated rows: 1\n"
          ],
          "name": "stdout"
        }
      ]
    },
    {
      "cell_type": "markdown",
      "metadata": {
        "id": "iZrz3xNOqGBY"
      },
      "source": [
        "# 중복 데이터(행) 제거"
      ]
    },
    {
      "cell_type": "code",
      "metadata": {
        "colab": {
          "base_uri": "https://localhost:8080/"
        },
        "id": "hv5XdiglqGBY",
        "outputId": "3dd180b4-966c-40cd-bf06-678ae2495054"
      },
      "source": [
        "df.drop_duplicates(inplace=True)\n",
        "print('# of duplicated rows:', df.duplicated().sum())"
      ],
      "execution_count": 3,
      "outputs": [
        {
          "output_type": "stream",
          "text": [
            "# of duplicated rows: 0\n"
          ],
          "name": "stdout"
        }
      ]
    },
    {
      "cell_type": "markdown",
      "metadata": {
        "id": "sdArrmNrqGBZ"
      },
      "source": [
        "# 실수가 아닌 설명변수(feature) 수변환\n",
        "### 대상: sex, smoker, region"
      ]
    },
    {
      "cell_type": "code",
      "metadata": {
        "colab": {
          "base_uri": "https://localhost:8080/",
          "height": 204
        },
        "id": "KLOE4XBnqGBZ",
        "outputId": "ad74febc-b3e3-4525-b2e2-fbf8ca2f93f1"
      },
      "source": [
        "df.head()"
      ],
      "execution_count": 4,
      "outputs": [
        {
          "output_type": "execute_result",
          "data": {
            "text/html": [
              "<div>\n",
              "<style scoped>\n",
              "    .dataframe tbody tr th:only-of-type {\n",
              "        vertical-align: middle;\n",
              "    }\n",
              "\n",
              "    .dataframe tbody tr th {\n",
              "        vertical-align: top;\n",
              "    }\n",
              "\n",
              "    .dataframe thead th {\n",
              "        text-align: right;\n",
              "    }\n",
              "</style>\n",
              "<table border=\"1\" class=\"dataframe\">\n",
              "  <thead>\n",
              "    <tr style=\"text-align: right;\">\n",
              "      <th></th>\n",
              "      <th>age</th>\n",
              "      <th>sex</th>\n",
              "      <th>bmi</th>\n",
              "      <th>children</th>\n",
              "      <th>smoker</th>\n",
              "      <th>region</th>\n",
              "      <th>charges</th>\n",
              "    </tr>\n",
              "  </thead>\n",
              "  <tbody>\n",
              "    <tr>\n",
              "      <th>0</th>\n",
              "      <td>19</td>\n",
              "      <td>female</td>\n",
              "      <td>27.900</td>\n",
              "      <td>0</td>\n",
              "      <td>yes</td>\n",
              "      <td>southwest</td>\n",
              "      <td>16884.92400</td>\n",
              "    </tr>\n",
              "    <tr>\n",
              "      <th>1</th>\n",
              "      <td>18</td>\n",
              "      <td>male</td>\n",
              "      <td>33.770</td>\n",
              "      <td>1</td>\n",
              "      <td>no</td>\n",
              "      <td>southeast</td>\n",
              "      <td>1725.55230</td>\n",
              "    </tr>\n",
              "    <tr>\n",
              "      <th>2</th>\n",
              "      <td>28</td>\n",
              "      <td>male</td>\n",
              "      <td>33.000</td>\n",
              "      <td>3</td>\n",
              "      <td>no</td>\n",
              "      <td>southeast</td>\n",
              "      <td>4449.46200</td>\n",
              "    </tr>\n",
              "    <tr>\n",
              "      <th>3</th>\n",
              "      <td>33</td>\n",
              "      <td>male</td>\n",
              "      <td>22.705</td>\n",
              "      <td>0</td>\n",
              "      <td>no</td>\n",
              "      <td>northwest</td>\n",
              "      <td>21984.47061</td>\n",
              "    </tr>\n",
              "    <tr>\n",
              "      <th>4</th>\n",
              "      <td>32</td>\n",
              "      <td>male</td>\n",
              "      <td>28.880</td>\n",
              "      <td>0</td>\n",
              "      <td>no</td>\n",
              "      <td>northwest</td>\n",
              "      <td>3866.85520</td>\n",
              "    </tr>\n",
              "  </tbody>\n",
              "</table>\n",
              "</div>"
            ],
            "text/plain": [
              "   age     sex     bmi  children smoker     region      charges\n",
              "0   19  female  27.900         0    yes  southwest  16884.92400\n",
              "1   18    male  33.770         1     no  southeast   1725.55230\n",
              "2   28    male  33.000         3     no  southeast   4449.46200\n",
              "3   33    male  22.705         0     no  northwest  21984.47061\n",
              "4   32    male  28.880         0     no  northwest   3866.85520"
            ]
          },
          "metadata": {
            "tags": []
          },
          "execution_count": 4
        }
      ]
    },
    {
      "cell_type": "code",
      "metadata": {
        "id": "MBTo6o1OqGBa"
      },
      "source": [
        "from sklearn.preprocessing import LabelEncoder\n",
        "\n",
        "for col in df.columns:\n",
        "    if df[col].dtype == 'object':\n",
        "        lbl=LabelEncoder()\n",
        "        lbl.fit(list(df[col].values))\n",
        "        df[col]=lbl.transform(df[col].values)"
      ],
      "execution_count": 5,
      "outputs": []
    },
    {
      "cell_type": "code",
      "metadata": {
        "colab": {
          "base_uri": "https://localhost:8080/",
          "height": 204
        },
        "id": "F5L8yIYOqGBa",
        "outputId": "9c9f7ee4-4b74-453e-f3c9-8d89541193c2"
      },
      "source": [
        "df.head()"
      ],
      "execution_count": 6,
      "outputs": [
        {
          "output_type": "execute_result",
          "data": {
            "text/html": [
              "<div>\n",
              "<style scoped>\n",
              "    .dataframe tbody tr th:only-of-type {\n",
              "        vertical-align: middle;\n",
              "    }\n",
              "\n",
              "    .dataframe tbody tr th {\n",
              "        vertical-align: top;\n",
              "    }\n",
              "\n",
              "    .dataframe thead th {\n",
              "        text-align: right;\n",
              "    }\n",
              "</style>\n",
              "<table border=\"1\" class=\"dataframe\">\n",
              "  <thead>\n",
              "    <tr style=\"text-align: right;\">\n",
              "      <th></th>\n",
              "      <th>age</th>\n",
              "      <th>sex</th>\n",
              "      <th>bmi</th>\n",
              "      <th>children</th>\n",
              "      <th>smoker</th>\n",
              "      <th>region</th>\n",
              "      <th>charges</th>\n",
              "    </tr>\n",
              "  </thead>\n",
              "  <tbody>\n",
              "    <tr>\n",
              "      <th>0</th>\n",
              "      <td>19</td>\n",
              "      <td>0</td>\n",
              "      <td>27.900</td>\n",
              "      <td>0</td>\n",
              "      <td>1</td>\n",
              "      <td>3</td>\n",
              "      <td>16884.92400</td>\n",
              "    </tr>\n",
              "    <tr>\n",
              "      <th>1</th>\n",
              "      <td>18</td>\n",
              "      <td>1</td>\n",
              "      <td>33.770</td>\n",
              "      <td>1</td>\n",
              "      <td>0</td>\n",
              "      <td>2</td>\n",
              "      <td>1725.55230</td>\n",
              "    </tr>\n",
              "    <tr>\n",
              "      <th>2</th>\n",
              "      <td>28</td>\n",
              "      <td>1</td>\n",
              "      <td>33.000</td>\n",
              "      <td>3</td>\n",
              "      <td>0</td>\n",
              "      <td>2</td>\n",
              "      <td>4449.46200</td>\n",
              "    </tr>\n",
              "    <tr>\n",
              "      <th>3</th>\n",
              "      <td>33</td>\n",
              "      <td>1</td>\n",
              "      <td>22.705</td>\n",
              "      <td>0</td>\n",
              "      <td>0</td>\n",
              "      <td>1</td>\n",
              "      <td>21984.47061</td>\n",
              "    </tr>\n",
              "    <tr>\n",
              "      <th>4</th>\n",
              "      <td>32</td>\n",
              "      <td>1</td>\n",
              "      <td>28.880</td>\n",
              "      <td>0</td>\n",
              "      <td>0</td>\n",
              "      <td>1</td>\n",
              "      <td>3866.85520</td>\n",
              "    </tr>\n",
              "  </tbody>\n",
              "</table>\n",
              "</div>"
            ],
            "text/plain": [
              "   age  sex     bmi  children  smoker  region      charges\n",
              "0   19    0  27.900         0       1       3  16884.92400\n",
              "1   18    1  33.770         1       0       2   1725.55230\n",
              "2   28    1  33.000         3       0       2   4449.46200\n",
              "3   33    1  22.705         0       0       1  21984.47061\n",
              "4   32    1  28.880         0       0       1   3866.85520"
            ]
          },
          "metadata": {
            "tags": []
          },
          "execution_count": 6
        }
      ]
    },
    {
      "cell_type": "markdown",
      "metadata": {
        "id": "ODd6YoVGqGBb"
      },
      "source": [
        "# 데이터 셋 생성"
      ]
    },
    {
      "cell_type": "markdown",
      "metadata": {
        "id": "SnAK4ligqGBc"
      },
      "source": [
        "## 1) 설명변수, 반응변수 생성"
      ]
    },
    {
      "cell_type": "code",
      "metadata": {
        "id": "OZX7iLxyqGBc"
      },
      "source": [
        "#Split and Scaling Data\n",
        "X=df.drop('charges',axis=1)\n",
        "y=df['charges']"
      ],
      "execution_count": 7,
      "outputs": []
    },
    {
      "cell_type": "code",
      "metadata": {
        "colab": {
          "base_uri": "https://localhost:8080/",
          "height": 419
        },
        "id": "LMdjfok9tZIc",
        "outputId": "feedb4f9-4316-476f-f3cd-69618e292634"
      },
      "source": [
        "X"
      ],
      "execution_count": 22,
      "outputs": [
        {
          "output_type": "execute_result",
          "data": {
            "text/html": [
              "<div>\n",
              "<style scoped>\n",
              "    .dataframe tbody tr th:only-of-type {\n",
              "        vertical-align: middle;\n",
              "    }\n",
              "\n",
              "    .dataframe tbody tr th {\n",
              "        vertical-align: top;\n",
              "    }\n",
              "\n",
              "    .dataframe thead th {\n",
              "        text-align: right;\n",
              "    }\n",
              "</style>\n",
              "<table border=\"1\" class=\"dataframe\">\n",
              "  <thead>\n",
              "    <tr style=\"text-align: right;\">\n",
              "      <th></th>\n",
              "      <th>age</th>\n",
              "      <th>sex</th>\n",
              "      <th>bmi</th>\n",
              "      <th>children</th>\n",
              "      <th>smoker</th>\n",
              "      <th>region</th>\n",
              "    </tr>\n",
              "  </thead>\n",
              "  <tbody>\n",
              "    <tr>\n",
              "      <th>0</th>\n",
              "      <td>19</td>\n",
              "      <td>0</td>\n",
              "      <td>27.900</td>\n",
              "      <td>0</td>\n",
              "      <td>1</td>\n",
              "      <td>3</td>\n",
              "    </tr>\n",
              "    <tr>\n",
              "      <th>1</th>\n",
              "      <td>18</td>\n",
              "      <td>1</td>\n",
              "      <td>33.770</td>\n",
              "      <td>1</td>\n",
              "      <td>0</td>\n",
              "      <td>2</td>\n",
              "    </tr>\n",
              "    <tr>\n",
              "      <th>2</th>\n",
              "      <td>28</td>\n",
              "      <td>1</td>\n",
              "      <td>33.000</td>\n",
              "      <td>3</td>\n",
              "      <td>0</td>\n",
              "      <td>2</td>\n",
              "    </tr>\n",
              "    <tr>\n",
              "      <th>3</th>\n",
              "      <td>33</td>\n",
              "      <td>1</td>\n",
              "      <td>22.705</td>\n",
              "      <td>0</td>\n",
              "      <td>0</td>\n",
              "      <td>1</td>\n",
              "    </tr>\n",
              "    <tr>\n",
              "      <th>4</th>\n",
              "      <td>32</td>\n",
              "      <td>1</td>\n",
              "      <td>28.880</td>\n",
              "      <td>0</td>\n",
              "      <td>0</td>\n",
              "      <td>1</td>\n",
              "    </tr>\n",
              "    <tr>\n",
              "      <th>...</th>\n",
              "      <td>...</td>\n",
              "      <td>...</td>\n",
              "      <td>...</td>\n",
              "      <td>...</td>\n",
              "      <td>...</td>\n",
              "      <td>...</td>\n",
              "    </tr>\n",
              "    <tr>\n",
              "      <th>1333</th>\n",
              "      <td>50</td>\n",
              "      <td>1</td>\n",
              "      <td>30.970</td>\n",
              "      <td>3</td>\n",
              "      <td>0</td>\n",
              "      <td>1</td>\n",
              "    </tr>\n",
              "    <tr>\n",
              "      <th>1334</th>\n",
              "      <td>18</td>\n",
              "      <td>0</td>\n",
              "      <td>31.920</td>\n",
              "      <td>0</td>\n",
              "      <td>0</td>\n",
              "      <td>0</td>\n",
              "    </tr>\n",
              "    <tr>\n",
              "      <th>1335</th>\n",
              "      <td>18</td>\n",
              "      <td>0</td>\n",
              "      <td>36.850</td>\n",
              "      <td>0</td>\n",
              "      <td>0</td>\n",
              "      <td>2</td>\n",
              "    </tr>\n",
              "    <tr>\n",
              "      <th>1336</th>\n",
              "      <td>21</td>\n",
              "      <td>0</td>\n",
              "      <td>25.800</td>\n",
              "      <td>0</td>\n",
              "      <td>0</td>\n",
              "      <td>3</td>\n",
              "    </tr>\n",
              "    <tr>\n",
              "      <th>1337</th>\n",
              "      <td>61</td>\n",
              "      <td>0</td>\n",
              "      <td>29.070</td>\n",
              "      <td>0</td>\n",
              "      <td>1</td>\n",
              "      <td>1</td>\n",
              "    </tr>\n",
              "  </tbody>\n",
              "</table>\n",
              "<p>1337 rows × 6 columns</p>\n",
              "</div>"
            ],
            "text/plain": [
              "      age  sex     bmi  children  smoker  region\n",
              "0      19    0  27.900         0       1       3\n",
              "1      18    1  33.770         1       0       2\n",
              "2      28    1  33.000         3       0       2\n",
              "3      33    1  22.705         0       0       1\n",
              "4      32    1  28.880         0       0       1\n",
              "...   ...  ...     ...       ...     ...     ...\n",
              "1333   50    1  30.970         3       0       1\n",
              "1334   18    0  31.920         0       0       0\n",
              "1335   18    0  36.850         0       0       2\n",
              "1336   21    0  25.800         0       0       3\n",
              "1337   61    0  29.070         0       1       1\n",
              "\n",
              "[1337 rows x 6 columns]"
            ]
          },
          "metadata": {
            "tags": []
          },
          "execution_count": 22
        }
      ]
    },
    {
      "cell_type": "code",
      "metadata": {
        "colab": {
          "base_uri": "https://localhost:8080/"
        },
        "id": "E5XnYZ67tbI7",
        "outputId": "6fa0adec-219f-461b-d1f5-585e3216c032"
      },
      "source": [
        "y"
      ],
      "execution_count": 23,
      "outputs": [
        {
          "output_type": "execute_result",
          "data": {
            "text/plain": [
              "0       16884.92400\n",
              "1        1725.55230\n",
              "2        4449.46200\n",
              "3       21984.47061\n",
              "4        3866.85520\n",
              "           ...     \n",
              "1333    10600.54830\n",
              "1334     2205.98080\n",
              "1335     1629.83350\n",
              "1336     2007.94500\n",
              "1337    29141.36030\n",
              "Name: charges, Length: 1337, dtype: float64"
            ]
          },
          "metadata": {
            "tags": []
          },
          "execution_count": 23
        }
      ]
    },
    {
      "cell_type": "markdown",
      "metadata": {
        "id": "4G4HRYiIqGBd"
      },
      "source": [
        "## 2) Train, Validation, Test set 생성\n",
        "## (validation은 생략)"
      ]
    },
    {
      "cell_type": "markdown",
      "metadata": {
        "id": "iDZTdprRt3UW"
      },
      "source": [
        "![img.png](data:image/png;base64,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)\n"
      ]
    },
    {
      "cell_type": "code",
      "metadata": {
        "id": "X3PaZSN4qGBd"
      },
      "source": [
        "from sklearn.model_selection import train_test_split\n",
        "\n",
        "X_train,X_test,y_train,y_test = train_test_split(X,y,test_size=.20, random_state=45)"
      ],
      "execution_count": 8,
      "outputs": []
    },
    {
      "cell_type": "code",
      "metadata": {
        "colab": {
          "base_uri": "https://localhost:8080/"
        },
        "id": "jtR9or13qGBd",
        "outputId": "b993572a-3ab7-4afe-914c-ae29c6703ebd"
      },
      "source": [
        "print('X_train, y_train shape:', X_train.shape, y_train.shape)\n",
        "print('X_test, y_test shape:', X_test.shape, y_test.shape)"
      ],
      "execution_count": 9,
      "outputs": [
        {
          "output_type": "stream",
          "text": [
            "X_train, y_train shape: (1069, 6) (1069,)\n",
            "X_test, y_test shape: (268, 6) (268,)\n"
          ],
          "name": "stdout"
        }
      ]
    },
    {
      "cell_type": "markdown",
      "metadata": {
        "id": "2XQbeg_bqGBe"
      },
      "source": [
        "# 설명 변수의 범위 스케일링(scaling)\n",
        "## 표준화 $X=\\frac{X - \\mu}{\\sigma} = \\frac{X - X_{평균}}{X_{표준편차}}$\n",
        "입력된 x 들의 분포를 평균이 0 이고 분산이 1 인  표준 정규 분포로 변환하는 계산"
      ]
    },
    {
      "cell_type": "markdown",
      "metadata": {
        "id": "QnwBpeiVvoXe"
      },
      "source": [
        "![1*dZlwWGNhFco5bmpfwYyLCQ.png](data:image/png;base64,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)"
      ]
    },
    {
      "cell_type": "code",
      "metadata": {
        "id": "YUjMCu-7qGBe"
      },
      "source": [
        "from sklearn.preprocessing import StandardScaler\n",
        "\n",
        "sc=StandardScaler()\n",
        "sc.fit(X_train)\n",
        "\n",
        "X_train = sc.transform(X_train)\n",
        "X_test = sc.transform(X_test)"
      ],
      "execution_count": 10,
      "outputs": []
    },
    {
      "cell_type": "markdown",
      "metadata": {
        "id": "hTS2YNM-qGBf"
      },
      "source": [
        "# 선형회귀 모델 생성"
      ]
    },
    {
      "cell_type": "code",
      "metadata": {
        "colab": {
          "base_uri": "https://localhost:8080/"
        },
        "id": "4LM4UJrKqGBf",
        "outputId": "35e79186-82ed-4db2-82a2-f62e20c22742"
      },
      "source": [
        "from sklearn.linear_model import LinearRegression\n",
        "regressor = LinearRegression()\n",
        "regressor.fit(X_train, y_train)"
      ],
      "execution_count": 11,
      "outputs": [
        {
          "output_type": "execute_result",
          "data": {
            "text/plain": [
              "LinearRegression(copy_X=True, fit_intercept=True, n_jobs=None, normalize=False)"
            ]
          },
          "metadata": {
            "tags": []
          },
          "execution_count": 11
        }
      ]
    },
    {
      "cell_type": "markdown",
      "metadata": {
        "id": "rvn9Z2ocqGBg"
      },
      "source": [
        "## 1) 모델학습"
      ]
    },
    {
      "cell_type": "markdown",
      "metadata": {
        "id": "um7EvaQgqGBg"
      },
      "source": [
        "## 회귀식 출력 (do not modify)"
      ]
    },
    {
      "cell_type": "code",
      "metadata": {
        "colab": {
          "base_uri": "https://localhost:8080/"
        },
        "id": "XqFSSSDqqGBg",
        "outputId": "e0871474-9a62-4793-bce7-19ae55223641"
      },
      "source": [
        "len_coef = len(regressor.coef_)\n",
        "print('y = ', end='')\n",
        "for i in range(len_coef+1):\n",
        "    end_str = ' - ' if regressor.coef_[i-1] < 0 else ' + '\n",
        "\n",
        "    if i == 0:\n",
        "        print('%.3f'%regressor.intercept_, end='')\n",
        "    elif i != len_coef:\n",
        "        print('%s%.3f x%d'%(end_str, abs(regressor.coef_[i-1]), i), end='')\n",
        "    else:\n",
        "        print('%s%.3f x%d'%(end_str, abs(regressor.coef_[i-1]), i))\n",
        "    "
      ],
      "execution_count": 12,
      "outputs": [
        {
          "output_type": "stream",
          "text": [
            "y = 13508.552 + 3577.962 x1 - 82.462 x2 + 2093.287 x3 + 584.946 x4 + 9808.510 x5 - 353.649 x6\n"
          ],
          "name": "stdout"
        }
      ]
    },
    {
      "cell_type": "markdown",
      "metadata": {
        "id": "omZ0DaUnqGBh"
      },
      "source": [
        "## 2) 예측"
      ]
    },
    {
      "cell_type": "code",
      "metadata": {
        "id": "_LY05M95qGBh"
      },
      "source": [
        "import numpy as np"
      ],
      "execution_count": 13,
      "outputs": []
    },
    {
      "cell_type": "code",
      "metadata": {
        "id": "v2MY4yqWqGBh"
      },
      "source": [
        "train_predict = regressor.predict(X_train)\n",
        "test_predict = regressor.predict(X_test)"
      ],
      "execution_count": 14,
      "outputs": []
    },
    {
      "cell_type": "markdown",
      "metadata": {
        "id": "--MSGW30qGBh"
      },
      "source": [
        "### a) 학습 데이터 셋 예측"
      ]
    },
    {
      "cell_type": "code",
      "metadata": {
        "colab": {
          "base_uri": "https://localhost:8080/",
          "height": 359
        },
        "id": "atpAz0N7qGBh",
        "outputId": "ec311249-cc0a-4aad-89ca-f0680a571a12"
      },
      "source": [
        "train_pred_df = pd.DataFrame({'y_train':np.array(y_train), 'train predict':train_predict})\n",
        "train_pred_df.head(10)"
      ],
      "execution_count": 15,
      "outputs": [
        {
          "output_type": "execute_result",
          "data": {
            "text/html": [
              "<div>\n",
              "<style scoped>\n",
              "    .dataframe tbody tr th:only-of-type {\n",
              "        vertical-align: middle;\n",
              "    }\n",
              "\n",
              "    .dataframe tbody tr th {\n",
              "        vertical-align: top;\n",
              "    }\n",
              "\n",
              "    .dataframe thead th {\n",
              "        text-align: right;\n",
              "    }\n",
              "</style>\n",
              "<table border=\"1\" class=\"dataframe\">\n",
              "  <thead>\n",
              "    <tr style=\"text-align: right;\">\n",
              "      <th></th>\n",
              "      <th>y_train</th>\n",
              "      <th>train predict</th>\n",
              "    </tr>\n",
              "  </thead>\n",
              "  <tbody>\n",
              "    <tr>\n",
              "      <th>0</th>\n",
              "      <td>8240.58960</td>\n",
              "      <td>11045.354540</td>\n",
              "    </tr>\n",
              "    <tr>\n",
              "      <th>1</th>\n",
              "      <td>13831.11520</td>\n",
              "      <td>17415.822535</td>\n",
              "    </tr>\n",
              "    <tr>\n",
              "      <th>2</th>\n",
              "      <td>9634.53800</td>\n",
              "      <td>13135.323934</td>\n",
              "    </tr>\n",
              "    <tr>\n",
              "      <th>3</th>\n",
              "      <td>11763.00090</td>\n",
              "      <td>13614.122859</td>\n",
              "    </tr>\n",
              "    <tr>\n",
              "      <th>4</th>\n",
              "      <td>7050.02130</td>\n",
              "      <td>9988.448136</td>\n",
              "    </tr>\n",
              "    <tr>\n",
              "      <th>5</th>\n",
              "      <td>14254.60820</td>\n",
              "      <td>12324.501749</td>\n",
              "    </tr>\n",
              "    <tr>\n",
              "      <th>6</th>\n",
              "      <td>5910.94400</td>\n",
              "      <td>7380.681384</td>\n",
              "    </tr>\n",
              "    <tr>\n",
              "      <th>7</th>\n",
              "      <td>11657.71890</td>\n",
              "      <td>11979.791643</td>\n",
              "    </tr>\n",
              "    <tr>\n",
              "      <th>8</th>\n",
              "      <td>10796.35025</td>\n",
              "      <td>11789.920703</td>\n",
              "    </tr>\n",
              "    <tr>\n",
              "      <th>9</th>\n",
              "      <td>2730.10785</td>\n",
              "      <td>6621.928262</td>\n",
              "    </tr>\n",
              "  </tbody>\n",
              "</table>\n",
              "</div>"
            ],
            "text/plain": [
              "       y_train  train predict\n",
              "0   8240.58960   11045.354540\n",
              "1  13831.11520   17415.822535\n",
              "2   9634.53800   13135.323934\n",
              "3  11763.00090   13614.122859\n",
              "4   7050.02130    9988.448136\n",
              "5  14254.60820   12324.501749\n",
              "6   5910.94400    7380.681384\n",
              "7  11657.71890   11979.791643\n",
              "8  10796.35025   11789.920703\n",
              "9   2730.10785    6621.928262"
            ]
          },
          "metadata": {
            "tags": []
          },
          "execution_count": 15
        }
      ]
    },
    {
      "cell_type": "markdown",
      "metadata": {
        "id": "JyDtYLSQqGBi"
      },
      "source": [
        "### b) 테스트 데이터 셋 예측"
      ]
    },
    {
      "cell_type": "code",
      "metadata": {
        "scrolled": true,
        "colab": {
          "base_uri": "https://localhost:8080/",
          "height": 359
        },
        "id": "srwKGWu_qGBi",
        "outputId": "9f606805-b353-4e26-da74-eca878e253bf"
      },
      "source": [
        "train_pred_df = pd.DataFrame({'y_test':np.array(y_test), 'test predict':test_predict})\n",
        "train_pred_df.head(10)"
      ],
      "execution_count": 16,
      "outputs": [
        {
          "output_type": "execute_result",
          "data": {
            "text/html": [
              "<div>\n",
              "<style scoped>\n",
              "    .dataframe tbody tr th:only-of-type {\n",
              "        vertical-align: middle;\n",
              "    }\n",
              "\n",
              "    .dataframe tbody tr th {\n",
              "        vertical-align: top;\n",
              "    }\n",
              "\n",
              "    .dataframe thead th {\n",
              "        text-align: right;\n",
              "    }\n",
              "</style>\n",
              "<table border=\"1\" class=\"dataframe\">\n",
              "  <thead>\n",
              "    <tr style=\"text-align: right;\">\n",
              "      <th></th>\n",
              "      <th>y_test</th>\n",
              "      <th>test predict</th>\n",
              "    </tr>\n",
              "  </thead>\n",
              "  <tbody>\n",
              "    <tr>\n",
              "      <th>0</th>\n",
              "      <td>14571.89080</td>\n",
              "      <td>25272.097797</td>\n",
              "    </tr>\n",
              "    <tr>\n",
              "      <th>1</th>\n",
              "      <td>17904.52705</td>\n",
              "      <td>28878.658821</td>\n",
              "    </tr>\n",
              "    <tr>\n",
              "      <th>2</th>\n",
              "      <td>5138.25670</td>\n",
              "      <td>9547.541507</td>\n",
              "    </tr>\n",
              "    <tr>\n",
              "      <th>3</th>\n",
              "      <td>20781.48892</td>\n",
              "      <td>12536.332424</td>\n",
              "    </tr>\n",
              "    <tr>\n",
              "      <th>4</th>\n",
              "      <td>1242.26000</td>\n",
              "      <td>-1351.028947</td>\n",
              "    </tr>\n",
              "    <tr>\n",
              "      <th>5</th>\n",
              "      <td>3877.30425</td>\n",
              "      <td>5704.940974</td>\n",
              "    </tr>\n",
              "    <tr>\n",
              "      <th>6</th>\n",
              "      <td>2438.05520</td>\n",
              "      <td>10875.405705</td>\n",
              "    </tr>\n",
              "    <tr>\n",
              "      <th>7</th>\n",
              "      <td>10797.33620</td>\n",
              "      <td>12299.887845</td>\n",
              "    </tr>\n",
              "    <tr>\n",
              "      <th>8</th>\n",
              "      <td>14410.93210</td>\n",
              "      <td>17269.218621</td>\n",
              "    </tr>\n",
              "    <tr>\n",
              "      <th>9</th>\n",
              "      <td>18218.16139</td>\n",
              "      <td>5275.369339</td>\n",
              "    </tr>\n",
              "  </tbody>\n",
              "</table>\n",
              "</div>"
            ],
            "text/plain": [
              "        y_test  test predict\n",
              "0  14571.89080  25272.097797\n",
              "1  17904.52705  28878.658821\n",
              "2   5138.25670   9547.541507\n",
              "3  20781.48892  12536.332424\n",
              "4   1242.26000  -1351.028947\n",
              "5   3877.30425   5704.940974\n",
              "6   2438.05520  10875.405705\n",
              "7  10797.33620  12299.887845\n",
              "8  14410.93210  17269.218621\n",
              "9  18218.16139   5275.369339"
            ]
          },
          "metadata": {
            "tags": []
          },
          "execution_count": 16
        }
      ]
    },
    {
      "cell_type": "markdown",
      "metadata": {
        "id": "HNukOhXjqGBi"
      },
      "source": [
        "## 3) 평가\n",
        "## $R^2=1-\\frac{\\sum^{n}_{i=1}(y_i-\\hat{y_i})^2}{\\sum^{n}_{i=1}(y_i-\\bar{y_i})^2} = 1 - \\frac{오차}{편차}$\n",
        "### 0과 1사이의 값, 1에 가까울 수록 좋은모델(오차(분자)가 0이므로), '모델이 설명을 잘한다' 라고 볼 수 있다."
      ]
    },
    {
      "cell_type": "code",
      "metadata": {
        "id": "a_acDZ0RqGBj"
      },
      "source": [
        "from sklearn.metrics import r2_score"
      ],
      "execution_count": 17,
      "outputs": []
    },
    {
      "cell_type": "code",
      "metadata": {
        "colab": {
          "base_uri": "https://localhost:8080/"
        },
        "id": "e9JF8xgXqGBk",
        "outputId": "ae1e69f0-f277-4226-d523-776eff855895"
      },
      "source": [
        "train_r2 = r2_score(y_train, train_predict)\n",
        "test_r2 = r2_score(y_test, test_predict)\n",
        "\n",
        "print('Train R2 score:', train_r2)\n",
        "print('Test R2 score:', test_r2)"
      ],
      "execution_count": 18,
      "outputs": [
        {
          "output_type": "stream",
          "text": [
            "Train R2 score: 0.7534323146523124\n",
            "Test R2 score: 0.7325335930063609\n"
          ],
          "name": "stdout"
        }
      ]
    },
    {
      "cell_type": "markdown",
      "metadata": {
        "id": "GW_lF45ZqGBk"
      },
      "source": [
        "## 4) 관측, 예측 산점도"
      ]
    },
    {
      "cell_type": "code",
      "metadata": {
        "id": "TWw5Hs-sqGBl"
      },
      "source": [
        "import matplotlib.pyplot as plt"
      ],
      "execution_count": 19,
      "outputs": []
    },
    {
      "cell_type": "markdown",
      "metadata": {
        "id": "_a2cQVd_qGBm"
      },
      "source": [
        "### a) 학습 데이터 셋"
      ]
    },
    {
      "cell_type": "code",
      "metadata": {
        "colab": {
          "base_uri": "https://localhost:8080/",
          "height": 653
        },
        "id": "0Mlytn6SqGBn",
        "outputId": "3e797798-7dd3-43a5-fdce-e827aac40431"
      },
      "source": [
        "plot_size = 200\n",
        "plt.figure(figsize=(10, 10))\n",
        "plt.scatter(train_predict[:plot_size], y_train[:plot_size])\n",
        "max_value = max(train_predict[:plot_size].max(), y_train[:plot_size].max())\n",
        "plt.plot([0, max_value], [0, max_value], 'k-', color='red')\n",
        "\n",
        "plt.title('Observation, Estimation scatter plot (train)', size=20)\n",
        "plt.xlabel('Predict', size=16)\n",
        "plt.xticks(size=14)\n",
        "plt.ylabel('Observation', size=16)\n",
        "plt.yticks(size=14)\n",
        "plt.show()\n",
        "print('Train R2 score:', train_r2)"
      ],
      "execution_count": 35,
      "outputs": [
        {
          "output_type": "display_data",
          "data": {
            "image/png": "[encoded data removed]",
            "text/plain": [
              "<Figure size 720x720 with 1 Axes>"
            ]
          },
          "metadata": {
            "tags": [],
            "needs_background": "light"
          }
        },
        {
          "output_type": "stream",
          "text": [
            "Train R2 score: 0.7534323146523124\n"
          ],
          "name": "stdout"
        }
      ]
    },
    {
      "cell_type": "markdown",
      "metadata": {
        "id": "SotzOV9wqGBr"
      },
      "source": [
        "### b) 테스트 데이터 셋"
      ]
    },
    {
      "cell_type": "code",
      "metadata": {
        "colab": {
          "base_uri": "https://localhost:8080/",
          "height": 670
        },
        "id": "JWmJ2OJRqGBt",
        "outputId": "0f89793a-8588-4028-ebe0-cfad5be034c2"
      },
      "source": [
        "plot_size = 200\n",
        "plt.figure(figsize=(10, 10))\n",
        "plt.scatter(test_predict[:plot_size], y_test[:plot_size])\n",
        "max_value = max(test_predict[:plot_size].max(), y_test[:plot_size].max())\n",
        "plt.plot([0, max_value], [0, max_value], 'k-', color='red')\n",
        "\n",
        "plt.title('Observation, Estimation scatter plot (test)', size=20)\n",
        "plt.xlabel('Predict', size=16)\n",
        "plt.xticks(size=14)\n",
        "plt.ylabel('Observation', size=16)\n",
        "plt.yticks(size=14)\n",
        "plt.show()\n",
        "print('Test R2 score:', test_r2)"
      ],
      "execution_count": 30,
      "outputs": [
        {
          "output_type": "stream",
          "text": [
            "[0, 51194.55914]\n"
          ],
          "name": "stdout"
        },
        {
          "output_type": "display_data",
          "data": {
            "image/png": "[encoded data removed]",
            "text/plain": [
              "<Figure size 720x720 with 1 Axes>"
            ]
          },
          "metadata": {
            "tags": [],
            "needs_background": "light"
          }
        },
        {
          "output_type": "stream",
          "text": [
            "Test R2 score: 0.7325335930063609\n"
          ],
          "name": "stdout"
        }
      ]
    },
    {
      "cell_type": "markdown",
      "metadata": {
        "id": "mVH1XGiZqGBu"
      },
      "source": [
        "# 과제\n",
        "## 1. 회귀 성능을 향상시킬수 있는 방법을 조사해 ppt로 정리해주세요\n",
        "## 2. 조사한 방법을 코드에 적용하여 Test R2 성능을 향상시켜보세요"
      ]
    },
    {
      "cell_type": "code",
      "metadata": {
        "id": "n_kjv7QBqGBv"
      },
      "source": [
        ""
      ],
      "execution_count": null,
      "outputs": []
    }
  ]
}