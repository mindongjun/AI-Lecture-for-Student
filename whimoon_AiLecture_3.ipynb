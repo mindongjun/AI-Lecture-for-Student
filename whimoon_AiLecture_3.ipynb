{
  "nbformat": 4,
  "nbformat_minor": 0,
  "metadata": {
    "kernelspec": {
      "display_name": "Python 3",
      "language": "python",
      "name": "python3"
    },
    "language_info": {
      "codemirror_mode": {
        "name": "ipython",
        "version": 3
      },
      "file_extension": ".py",
      "mimetype": "text/x-python",
      "name": "python",
      "nbconvert_exporter": "python",
      "pygments_lexer": "ipython3",
      "version": "3.7.4"
    },
    "colab": {
      "name": "whimoon_AiLecture-3.ipynb",
      "provenance": [],
      "include_colab_link": true
    }
  },
  "cells": [
    {
      "cell_type": "markdown",
      "metadata": {
        "id": "view-in-github",
        "colab_type": "text"
      },
      "source": [
        "<a href=\"https://colab.research.google.com/github/mindongjun/whimoon_AiLecture/blob/main/whimoon_AiLecture_3.ipynb\" target=\"_parent\"><img src=\"https://colab.research.google.com/assets/colab-badge.svg\" alt=\"Open In Colab\"/></a>"
      ]
    },
    {
      "cell_type": "markdown",
      "metadata": {
        "id": "vEpqn4QLuUEK"
      },
      "source": [
        "# Medical Charge 데이터 셋 불러오기"
      ]
    },
    {
      "cell_type": "code",
      "metadata": {
        "id": "k45CltNXuUEM",
        "outputId": "820f90ae-b806-4b35-9811-6953e8dbac64"
      },
      "source": [
        "import pandas as pd\n",
        "\n",
        "df=pd.read_csv(\"./insurance.csv\")\n",
        "df.head()"
      ],
      "execution_count": null,
      "outputs": [
        {
          "output_type": "execute_result",
          "data": {
            "text/html": [
              "<div>\n",
              "<style scoped>\n",
              "    .dataframe tbody tr th:only-of-type {\n",
              "        vertical-align: middle;\n",
              "    }\n",
              "\n",
              "    .dataframe tbody tr th {\n",
              "        vertical-align: top;\n",
              "    }\n",
              "\n",
              "    .dataframe thead th {\n",
              "        text-align: right;\n",
              "    }\n",
              "</style>\n",
              "<table border=\"1\" class=\"dataframe\">\n",
              "  <thead>\n",
              "    <tr style=\"text-align: right;\">\n",
              "      <th></th>\n",
              "      <th>age</th>\n",
              "      <th>sex</th>\n",
              "      <th>bmi</th>\n",
              "      <th>children</th>\n",
              "      <th>smoker</th>\n",
              "      <th>region</th>\n",
              "      <th>charges</th>\n",
              "    </tr>\n",
              "  </thead>\n",
              "  <tbody>\n",
              "    <tr>\n",
              "      <th>0</th>\n",
              "      <td>19</td>\n",
              "      <td>female</td>\n",
              "      <td>27.900</td>\n",
              "      <td>0</td>\n",
              "      <td>yes</td>\n",
              "      <td>southwest</td>\n",
              "      <td>16884.92400</td>\n",
              "    </tr>\n",
              "    <tr>\n",
              "      <th>1</th>\n",
              "      <td>18</td>\n",
              "      <td>male</td>\n",
              "      <td>33.770</td>\n",
              "      <td>1</td>\n",
              "      <td>no</td>\n",
              "      <td>southeast</td>\n",
              "      <td>1725.55230</td>\n",
              "    </tr>\n",
              "    <tr>\n",
              "      <th>2</th>\n",
              "      <td>28</td>\n",
              "      <td>male</td>\n",
              "      <td>33.000</td>\n",
              "      <td>3</td>\n",
              "      <td>no</td>\n",
              "      <td>southeast</td>\n",
              "      <td>4449.46200</td>\n",
              "    </tr>\n",
              "    <tr>\n",
              "      <th>3</th>\n",
              "      <td>33</td>\n",
              "      <td>male</td>\n",
              "      <td>22.705</td>\n",
              "      <td>0</td>\n",
              "      <td>no</td>\n",
              "      <td>northwest</td>\n",
              "      <td>21984.47061</td>\n",
              "    </tr>\n",
              "    <tr>\n",
              "      <th>4</th>\n",
              "      <td>32</td>\n",
              "      <td>male</td>\n",
              "      <td>28.880</td>\n",
              "      <td>0</td>\n",
              "      <td>no</td>\n",
              "      <td>northwest</td>\n",
              "      <td>3866.85520</td>\n",
              "    </tr>\n",
              "  </tbody>\n",
              "</table>\n",
              "</div>"
            ],
            "text/plain": [
              "   age     sex     bmi  children smoker     region      charges\n",
              "0   19  female  27.900         0    yes  southwest  16884.92400\n",
              "1   18    male  33.770         1     no  southeast   1725.55230\n",
              "2   28    male  33.000         3     no  southeast   4449.46200\n",
              "3   33    male  22.705         0     no  northwest  21984.47061\n",
              "4   32    male  28.880         0     no  northwest   3866.85520"
            ]
          },
          "metadata": {
            "tags": []
          },
          "execution_count": 1
        }
      ]
    },
    {
      "cell_type": "markdown",
      "metadata": {
        "id": "f57frLqTuUEO"
      },
      "source": [
        "# 중복된 데이터(행) 확인"
      ]
    },
    {
      "cell_type": "code",
      "metadata": {
        "id": "r5choHjbuUEO",
        "outputId": "5dc287dd-8e72-4f07-ecd8-c8370023aa95"
      },
      "source": [
        "print('# of duplicated rows:', df.duplicated().sum())"
      ],
      "execution_count": null,
      "outputs": [
        {
          "output_type": "stream",
          "text": [
            "# of duplicated rows: 1\n"
          ],
          "name": "stdout"
        }
      ]
    },
    {
      "cell_type": "markdown",
      "metadata": {
        "id": "qG5K70cRuUEP"
      },
      "source": [
        "# 중복 데이터(행) 제거"
      ]
    },
    {
      "cell_type": "code",
      "metadata": {
        "id": "noIts5PfuUEP",
        "outputId": "78ffc4fa-f6bc-4ed2-b932-cbb2f2769e9a"
      },
      "source": [
        "df.drop_duplicates(inplace=True)\n",
        "print('# of duplicated rows:', df.duplicated().sum())"
      ],
      "execution_count": null,
      "outputs": [
        {
          "output_type": "stream",
          "text": [
            "# of duplicated rows: 0\n"
          ],
          "name": "stdout"
        }
      ]
    },
    {
      "cell_type": "markdown",
      "metadata": {
        "id": "aJeqftzUuUEP"
      },
      "source": [
        "# 실수가 아닌 설명변수(feature) 수변환\n",
        "### 대상: sex, smoker, region"
      ]
    },
    {
      "cell_type": "code",
      "metadata": {
        "id": "oKsCfXsuuUEQ",
        "outputId": "5a23d48f-382d-4df6-9179-0b1f8e3af3d5"
      },
      "source": [
        "df.head()"
      ],
      "execution_count": null,
      "outputs": [
        {
          "output_type": "execute_result",
          "data": {
            "text/html": [
              "<div>\n",
              "<style scoped>\n",
              "    .dataframe tbody tr th:only-of-type {\n",
              "        vertical-align: middle;\n",
              "    }\n",
              "\n",
              "    .dataframe tbody tr th {\n",
              "        vertical-align: top;\n",
              "    }\n",
              "\n",
              "    .dataframe thead th {\n",
              "        text-align: right;\n",
              "    }\n",
              "</style>\n",
              "<table border=\"1\" class=\"dataframe\">\n",
              "  <thead>\n",
              "    <tr style=\"text-align: right;\">\n",
              "      <th></th>\n",
              "      <th>age</th>\n",
              "      <th>sex</th>\n",
              "      <th>bmi</th>\n",
              "      <th>children</th>\n",
              "      <th>smoker</th>\n",
              "      <th>region</th>\n",
              "      <th>charges</th>\n",
              "    </tr>\n",
              "  </thead>\n",
              "  <tbody>\n",
              "    <tr>\n",
              "      <th>0</th>\n",
              "      <td>19</td>\n",
              "      <td>female</td>\n",
              "      <td>27.900</td>\n",
              "      <td>0</td>\n",
              "      <td>yes</td>\n",
              "      <td>southwest</td>\n",
              "      <td>16884.92400</td>\n",
              "    </tr>\n",
              "    <tr>\n",
              "      <th>1</th>\n",
              "      <td>18</td>\n",
              "      <td>male</td>\n",
              "      <td>33.770</td>\n",
              "      <td>1</td>\n",
              "      <td>no</td>\n",
              "      <td>southeast</td>\n",
              "      <td>1725.55230</td>\n",
              "    </tr>\n",
              "    <tr>\n",
              "      <th>2</th>\n",
              "      <td>28</td>\n",
              "      <td>male</td>\n",
              "      <td>33.000</td>\n",
              "      <td>3</td>\n",
              "      <td>no</td>\n",
              "      <td>southeast</td>\n",
              "      <td>4449.46200</td>\n",
              "    </tr>\n",
              "    <tr>\n",
              "      <th>3</th>\n",
              "      <td>33</td>\n",
              "      <td>male</td>\n",
              "      <td>22.705</td>\n",
              "      <td>0</td>\n",
              "      <td>no</td>\n",
              "      <td>northwest</td>\n",
              "      <td>21984.47061</td>\n",
              "    </tr>\n",
              "    <tr>\n",
              "      <th>4</th>\n",
              "      <td>32</td>\n",
              "      <td>male</td>\n",
              "      <td>28.880</td>\n",
              "      <td>0</td>\n",
              "      <td>no</td>\n",
              "      <td>northwest</td>\n",
              "      <td>3866.85520</td>\n",
              "    </tr>\n",
              "  </tbody>\n",
              "</table>\n",
              "</div>"
            ],
            "text/plain": [
              "   age     sex     bmi  children smoker     region      charges\n",
              "0   19  female  27.900         0    yes  southwest  16884.92400\n",
              "1   18    male  33.770         1     no  southeast   1725.55230\n",
              "2   28    male  33.000         3     no  southeast   4449.46200\n",
              "3   33    male  22.705         0     no  northwest  21984.47061\n",
              "4   32    male  28.880         0     no  northwest   3866.85520"
            ]
          },
          "metadata": {
            "tags": []
          },
          "execution_count": 4
        }
      ]
    },
    {
      "cell_type": "code",
      "metadata": {
        "id": "o1VUwDfUuUEQ"
      },
      "source": [
        "from sklearn.preprocessing import LabelEncoder\n",
        "\n",
        "for col in df.columns:\n",
        "    if df[col].dtype == 'object':\n",
        "        lbl=LabelEncoder()\n",
        "        lbl.fit(list(df[col].values))\n",
        "        df[col]=lbl.transform(df[col].values)"
      ],
      "execution_count": null,
      "outputs": []
    },
    {
      "cell_type": "code",
      "metadata": {
        "id": "Me3EAA6CuUER",
        "outputId": "2dc6831d-626d-4a61-91a1-6b48a32a29b6"
      },
      "source": [
        "df.head()"
      ],
      "execution_count": null,
      "outputs": [
        {
          "output_type": "execute_result",
          "data": {
            "text/html": [
              "<div>\n",
              "<style scoped>\n",
              "    .dataframe tbody tr th:only-of-type {\n",
              "        vertical-align: middle;\n",
              "    }\n",
              "\n",
              "    .dataframe tbody tr th {\n",
              "        vertical-align: top;\n",
              "    }\n",
              "\n",
              "    .dataframe thead th {\n",
              "        text-align: right;\n",
              "    }\n",
              "</style>\n",
              "<table border=\"1\" class=\"dataframe\">\n",
              "  <thead>\n",
              "    <tr style=\"text-align: right;\">\n",
              "      <th></th>\n",
              "      <th>age</th>\n",
              "      <th>sex</th>\n",
              "      <th>bmi</th>\n",
              "      <th>children</th>\n",
              "      <th>smoker</th>\n",
              "      <th>region</th>\n",
              "      <th>charges</th>\n",
              "    </tr>\n",
              "  </thead>\n",
              "  <tbody>\n",
              "    <tr>\n",
              "      <th>0</th>\n",
              "      <td>19</td>\n",
              "      <td>0</td>\n",
              "      <td>27.900</td>\n",
              "      <td>0</td>\n",
              "      <td>1</td>\n",
              "      <td>3</td>\n",
              "      <td>16884.92400</td>\n",
              "    </tr>\n",
              "    <tr>\n",
              "      <th>1</th>\n",
              "      <td>18</td>\n",
              "      <td>1</td>\n",
              "      <td>33.770</td>\n",
              "      <td>1</td>\n",
              "      <td>0</td>\n",
              "      <td>2</td>\n",
              "      <td>1725.55230</td>\n",
              "    </tr>\n",
              "    <tr>\n",
              "      <th>2</th>\n",
              "      <td>28</td>\n",
              "      <td>1</td>\n",
              "      <td>33.000</td>\n",
              "      <td>3</td>\n",
              "      <td>0</td>\n",
              "      <td>2</td>\n",
              "      <td>4449.46200</td>\n",
              "    </tr>\n",
              "    <tr>\n",
              "      <th>3</th>\n",
              "      <td>33</td>\n",
              "      <td>1</td>\n",
              "      <td>22.705</td>\n",
              "      <td>0</td>\n",
              "      <td>0</td>\n",
              "      <td>1</td>\n",
              "      <td>21984.47061</td>\n",
              "    </tr>\n",
              "    <tr>\n",
              "      <th>4</th>\n",
              "      <td>32</td>\n",
              "      <td>1</td>\n",
              "      <td>28.880</td>\n",
              "      <td>0</td>\n",
              "      <td>0</td>\n",
              "      <td>1</td>\n",
              "      <td>3866.85520</td>\n",
              "    </tr>\n",
              "  </tbody>\n",
              "</table>\n",
              "</div>"
            ],
            "text/plain": [
              "   age  sex     bmi  children  smoker  region      charges\n",
              "0   19    0  27.900         0       1       3  16884.92400\n",
              "1   18    1  33.770         1       0       2   1725.55230\n",
              "2   28    1  33.000         3       0       2   4449.46200\n",
              "3   33    1  22.705         0       0       1  21984.47061\n",
              "4   32    1  28.880         0       0       1   3866.85520"
            ]
          },
          "metadata": {
            "tags": []
          },
          "execution_count": 6
        }
      ]
    },
    {
      "cell_type": "markdown",
      "metadata": {
        "id": "UrIfY_fBuUES"
      },
      "source": [
        "# 데이터 셋 생성"
      ]
    },
    {
      "cell_type": "markdown",
      "metadata": {
        "id": "H20hW-gnuUES"
      },
      "source": [
        "## 1) 설명변수, 반응변수 생성"
      ]
    },
    {
      "cell_type": "code",
      "metadata": {
        "id": "1pkUAvrBuUES"
      },
      "source": [
        "#Split and Scaling Data\n",
        "X=df.drop('charges',axis=1)\n",
        "y=df['charges']"
      ],
      "execution_count": null,
      "outputs": []
    },
    {
      "cell_type": "markdown",
      "metadata": {
        "id": "yLi6OJ9cuUET"
      },
      "source": [
        "## 2) Train, Validation, Test set 생성\n",
        "## (validation은 생략)"
      ]
    },
    {
      "cell_type": "code",
      "metadata": {
        "id": "gWdgGqQLuUET"
      },
      "source": [
        "from sklearn.model_selection import train_test_split\n",
        "\n",
        "X_train,X_test,y_train,y_test = train_test_split(X,y,test_size=.20, random_state=45)"
      ],
      "execution_count": null,
      "outputs": []
    },
    {
      "cell_type": "markdown",
      "metadata": {
        "id": "A_XHeFXOuUET"
      },
      "source": [
        "## 다항식 변환 --> 다항회귀"
      ]
    },
    {
      "cell_type": "code",
      "metadata": {
        "id": "Bj9sMWIzuUEU"
      },
      "source": [
        "from sklearn.preprocessing import PolynomialFeatures\n",
        "\n",
        "poly = PolynomialFeatures(4) # 4차항까지 추가\n",
        "X_train = poly.fit_transform(X_train)\n",
        "X_test = poly.transform(X_test)"
      ],
      "execution_count": null,
      "outputs": []
    },
    {
      "cell_type": "code",
      "metadata": {
        "id": "D2Z0jLNyuUEU",
        "outputId": "89a74534-df5e-48b2-bd13-2811e4af67ef"
      },
      "source": [
        "print('X_train, y_train shape:', X_train.shape, y_train.shape)\n",
        "print('X_test, y_test shape:', X_test.shape, y_test.shape)"
      ],
      "execution_count": null,
      "outputs": [
        {
          "output_type": "stream",
          "text": [
            "X_train, y_train shape: (1069, 210) (1069,)\n",
            "X_test, y_test shape: (268, 210) (268,)\n"
          ],
          "name": "stdout"
        }
      ]
    },
    {
      "cell_type": "markdown",
      "metadata": {
        "id": "4TzeiPLXuUEV"
      },
      "source": [
        "# 설명 변수의 범위 스케일링(scaling)\n",
        "## 표준화 $X=\\frac{X - \\mu}{\\sigma}$"
      ]
    },
    {
      "cell_type": "code",
      "metadata": {
        "id": "J78aSbfVuUEV"
      },
      "source": [
        "from sklearn.preprocessing import StandardScaler\n",
        "\n",
        "sc=StandardScaler()\n",
        "sc.fit(X_train)\n",
        "\n",
        "X_train = sc.transform(X_train)\n",
        "X_test = sc.transform(X_test)"
      ],
      "execution_count": null,
      "outputs": []
    },
    {
      "cell_type": "markdown",
      "metadata": {
        "id": "QMNvMaoouUEW"
      },
      "source": [
        "# 선형회귀 모델 생성"
      ]
    },
    {
      "cell_type": "code",
      "metadata": {
        "id": "Rz9nhHihuUEW",
        "outputId": "f7fe3698-e17b-4604-a9d4-cb520f3a7420"
      },
      "source": [
        "from sklearn.linear_model import LinearRegression\n",
        "regressor = LinearRegression()\n",
        "# regressor = Lasso(alpha=3)\n",
        "regressor.fit(X_train, y_train)"
      ],
      "execution_count": null,
      "outputs": [
        {
          "output_type": "execute_result",
          "data": {
            "text/plain": [
              "LinearRegression(copy_X=True, fit_intercept=True, n_jobs=None, normalize=False)"
            ]
          },
          "metadata": {
            "tags": []
          },
          "execution_count": 12
        }
      ]
    },
    {
      "cell_type": "markdown",
      "metadata": {
        "id": "HBW8OlZ9uUEW"
      },
      "source": [
        "## 1) 모델학습"
      ]
    },
    {
      "cell_type": "markdown",
      "metadata": {
        "id": "ybEJfTnauUEW"
      },
      "source": [
        "## 회귀식 출력 (do not modify)"
      ]
    },
    {
      "cell_type": "code",
      "metadata": {
        "scrolled": true,
        "id": "nc61MMxxuUEX",
        "outputId": "9cecacfd-be31-49ec-b5c5-882201e3860f"
      },
      "source": [
        "len_coef = len(regressor.coef_)\n",
        "print('y = ', end='')\n",
        "for i in range(len_coef+1):\n",
        "    end_str = ' - ' if regressor.coef_[i-1] < 0 else ' + '\n",
        "\n",
        "    if i == 0:\n",
        "        print('%.3f'%regressor.intercept_, end='')\n",
        "    elif i != len_coef:\n",
        "        print('%s%.3f x%d'%(end_str, abs(regressor.coef_[i-1]), i), end='')\n",
        "    else:\n",
        "        print('%s%.3f x%d'%(end_str, abs(regressor.coef_[i-1]), i))\n",
        "    "
      ],
      "execution_count": null,
      "outputs": [
        {
          "output_type": "stream",
          "text": [
            "y = 13508.552 - 0.000 x1 + 35560.178 x2 + 5247.931 x3 - 28405.006 x4 + 10884.323 x5 + 13961.794 x6 + 8002.644 x7 - 57825.353 x8 - 9908.973 x9 - 55589.248 x10 - 17486.668 x11 - 9358.879 x12 + 9615.655 x13 + 5247.931 x14 - 12240.270 x15 + 336.797 x16 - 926.698 x17 - 3311.709 x18 + 115651.952 x19 - 3233.430 x20 - 56394.153 x21 - 15850.292 x22 + 11878.834 x23 - 1382.615 x24 - 18228.082 x25 + 13961.794 x26 + 4068.564 x27 - 2977.539 x28 + 52485.337 x29 + 12069.514 x30 + 38381.901 x31 + 11720.272 x32 + 7435.412 x33 - 15737.476 x34 - 9908.973 x35 + 14857.611 x36 - 172.440 x37 + 1607.988 x38 + 1469.350 x39 + 39001.432 x40 + 7654.518 x41 + 24634.884 x42 - 11673.812 x43 - 17847.206 x44 + 3430.686 x45 + 5225.367 x46 - 9358.879 x47 - 6748.213 x48 + 12796.510 x49 + 5247.931 x50 - 12240.270 x51 + 336.797 x52 - 926.698 x53 - 3311.709 x54 + 10414.342 x55 - 3741.434 x56 + 3713.096 x57 + 8847.476 x58 + 11.849 x59 - 1226.202 x60 + 3779.848 x61 - 926.698 x62 - 911.694 x63 + 1049.313 x64 - 128123.980 x65 - 1601.754 x66 + 94771.958 x67 + 1769.534 x68 + 21438.852 x69 - 1690.972 x70 + 8186.839 x71 - 56394.153 x72 - 2093.197 x73 + 11982.369 x74 - 32213.676 x75 + 794.337 x76 + 11849.970 x77 - 1382.615 x78 + 3781.364 x79 + 1273.768 x80 + 13961.794 x81 + 4068.564 x82 - 5814.801 x83 - 6148.353 x84 - 16676.634 x85 - 14152.723 x86 - 11181.089 x87 + 1638.924 x88 - 10375.508 x89 + 8898.306 x90 + 12069.514 x91 + 9305.535 x92 + 820.634 x93 + 1089.149 x94 - 6296.315 x95 - 15216.306 x96 - 12333.011 x97 - 2905.103 x98 + 7335.631 x99 - 400.531 x100 - 3064.611 x101 + 4931.863 x102 + 7435.412 x103 + 6794.766 x104 - 5394.310 x105 - 9908.973 x106 + 14857.611 x107 - 172.440 x108 + 1607.988 x109 + 1469.350 x110 - 28089.215 x111 - 2924.318 x112 - 6558.792 x113 + 8869.521 x114 + 2505.243 x115 + 54.003 x116 - 2066.692 x117 + 1607.988 x118 + 1562.117 x119 - 1247.814 x120 - 1872.174 x121 + 9592.447 x122 - 23217.132 x123 - 392.826 x124 + 2155.298 x125 - 1264.128 x126 - 5678.995 x127 + 24634.884 x128 + 3780.099 x129 - 2024.711 x130 + 13731.381 x131 + 3037.374 x132 - 3859.703 x133 + 3430.686 x134 - 3525.409 x135 + 309.482 x136 - 9358.879 x137 - 6748.213 x138 - 302.523 x139 - 2709.010 x140 + 5247.931 x141 - 12240.270 x142 + 336.797 x143 - 926.698 x144 - 3311.709 x145 + 10414.342 x146 - 3741.434 x147 + 3713.096 x148 + 8847.476 x149 + 11.849 x150 - 1226.202 x151 + 3779.848 x152 - 926.698 x153 - 911.694 x154 + 1049.313 x155 + 4103.741 x156 + 7338.100 x157 - 5929.215 x158 - 15387.388 x159 + 2079.265 x160 + 3776.333 x161 - 5410.121 x162 + 3713.096 x163 + 2527.345 x164 + 5259.114 x165 - 2855.527 x166 + 273.081 x167 + 2.203 x168 - 1226.202 x169 - 543.580 x170 - 884.539 x171 - 926.698 x172 - 911.694 x173 - 420.498 x174 - 4458.156 x175 + 40663.413 x176 - 2771.960 x177 - 64018.091 x178 + 10224.888 x179 - 18103.503 x180 - 1398.566 x181 + 7390.633 x182 + 94771.958 x183 - 3926.095 x184 - 21304.282 x185 + 7573.439 x186 + 355.726 x187 - 5211.150 x188 - 1690.972 x189 + 1971.527 x190 - 8965.978 x191 - 56394.153 x192 - 2093.197 x193 + 4089.358 x194 + 20787.994 x195 + 8107.840 x196 - 1575.857 x197 - 938.297 x198 + 794.337 x199 - 2116.302 x200 + 100.881 x201 - 1382.615 x202 + 3781.364 x203 - 2036.423 x204 + 5042.741 x205 + 13961.794 x206 + 4068.564 x207 - 5814.801 x208 + 5628.755 x209 - 6946.390 x210\n"
          ],
          "name": "stdout"
        }
      ]
    },
    {
      "cell_type": "markdown",
      "metadata": {
        "id": "xmx-tHqMuUEX"
      },
      "source": [
        "## 2) 예측"
      ]
    },
    {
      "cell_type": "code",
      "metadata": {
        "id": "etIULG7ZuUEY"
      },
      "source": [
        "import numpy as np"
      ],
      "execution_count": null,
      "outputs": []
    },
    {
      "cell_type": "code",
      "metadata": {
        "id": "8JXtIbwvuUEY"
      },
      "source": [
        "train_predict = regressor.predict(X_train)\n",
        "test_predict = regressor.predict(X_test)"
      ],
      "execution_count": null,
      "outputs": []
    },
    {
      "cell_type": "markdown",
      "metadata": {
        "id": "ZNsU1BvXuUEZ"
      },
      "source": [
        "### a) 학습 데이터 셋 예측"
      ]
    },
    {
      "cell_type": "code",
      "metadata": {
        "id": "4KbzkMGUuUEa",
        "outputId": "bb3012a3-5a60-4008-804b-a33a0ed5a150"
      },
      "source": [
        "train_pred_df = pd.DataFrame({'y_train':np.array(y_train), 'train predict':train_predict})\n",
        "train_pred_df.head(10)"
      ],
      "execution_count": null,
      "outputs": [
        {
          "output_type": "execute_result",
          "data": {
            "text/html": [
              "<div>\n",
              "<style scoped>\n",
              "    .dataframe tbody tr th:only-of-type {\n",
              "        vertical-align: middle;\n",
              "    }\n",
              "\n",
              "    .dataframe tbody tr th {\n",
              "        vertical-align: top;\n",
              "    }\n",
              "\n",
              "    .dataframe thead th {\n",
              "        text-align: right;\n",
              "    }\n",
              "</style>\n",
              "<table border=\"1\" class=\"dataframe\">\n",
              "  <thead>\n",
              "    <tr style=\"text-align: right;\">\n",
              "      <th></th>\n",
              "      <th>y_train</th>\n",
              "      <th>train predict</th>\n",
              "    </tr>\n",
              "  </thead>\n",
              "  <tbody>\n",
              "    <tr>\n",
              "      <th>0</th>\n",
              "      <td>8240.58960</td>\n",
              "      <td>9331.624042</td>\n",
              "    </tr>\n",
              "    <tr>\n",
              "      <th>1</th>\n",
              "      <td>13831.11520</td>\n",
              "      <td>13304.355788</td>\n",
              "    </tr>\n",
              "    <tr>\n",
              "      <th>2</th>\n",
              "      <td>9634.53800</td>\n",
              "      <td>8590.275746</td>\n",
              "    </tr>\n",
              "    <tr>\n",
              "      <th>3</th>\n",
              "      <td>11763.00090</td>\n",
              "      <td>13343.267498</td>\n",
              "    </tr>\n",
              "    <tr>\n",
              "      <th>4</th>\n",
              "      <td>7050.02130</td>\n",
              "      <td>9934.688890</td>\n",
              "    </tr>\n",
              "    <tr>\n",
              "      <th>5</th>\n",
              "      <td>14254.60820</td>\n",
              "      <td>14639.517012</td>\n",
              "    </tr>\n",
              "    <tr>\n",
              "      <th>6</th>\n",
              "      <td>5910.94400</td>\n",
              "      <td>6656.895973</td>\n",
              "    </tr>\n",
              "    <tr>\n",
              "      <th>7</th>\n",
              "      <td>11657.71890</td>\n",
              "      <td>12353.933460</td>\n",
              "    </tr>\n",
              "    <tr>\n",
              "      <th>8</th>\n",
              "      <td>10796.35025</td>\n",
              "      <td>11876.165369</td>\n",
              "    </tr>\n",
              "    <tr>\n",
              "      <th>9</th>\n",
              "      <td>2730.10785</td>\n",
              "      <td>5319.969322</td>\n",
              "    </tr>\n",
              "  </tbody>\n",
              "</table>\n",
              "</div>"
            ],
            "text/plain": [
              "       y_train  train predict\n",
              "0   8240.58960    9331.624042\n",
              "1  13831.11520   13304.355788\n",
              "2   9634.53800    8590.275746\n",
              "3  11763.00090   13343.267498\n",
              "4   7050.02130    9934.688890\n",
              "5  14254.60820   14639.517012\n",
              "6   5910.94400    6656.895973\n",
              "7  11657.71890   12353.933460\n",
              "8  10796.35025   11876.165369\n",
              "9   2730.10785    5319.969322"
            ]
          },
          "metadata": {
            "tags": []
          },
          "execution_count": 16
        }
      ]
    },
    {
      "cell_type": "markdown",
      "metadata": {
        "id": "UTt4aXUSuUEa"
      },
      "source": [
        "### b) 테스트 데이터 셋 예측"
      ]
    },
    {
      "cell_type": "code",
      "metadata": {
        "scrolled": true,
        "id": "kukwIvWauUEb",
        "outputId": "ff8552cd-34af-48c1-a91e-c9b90108ab97"
      },
      "source": [
        "train_pred_df = pd.DataFrame({'y_test':np.array(y_test), 'test predict':test_predict})\n",
        "train_pred_df.head(10)"
      ],
      "execution_count": null,
      "outputs": [
        {
          "output_type": "execute_result",
          "data": {
            "text/html": [
              "<div>\n",
              "<style scoped>\n",
              "    .dataframe tbody tr th:only-of-type {\n",
              "        vertical-align: middle;\n",
              "    }\n",
              "\n",
              "    .dataframe tbody tr th {\n",
              "        vertical-align: top;\n",
              "    }\n",
              "\n",
              "    .dataframe thead th {\n",
              "        text-align: right;\n",
              "    }\n",
              "</style>\n",
              "<table border=\"1\" class=\"dataframe\">\n",
              "  <thead>\n",
              "    <tr style=\"text-align: right;\">\n",
              "      <th></th>\n",
              "      <th>y_test</th>\n",
              "      <th>test predict</th>\n",
              "    </tr>\n",
              "  </thead>\n",
              "  <tbody>\n",
              "    <tr>\n",
              "      <th>0</th>\n",
              "      <td>14571.89080</td>\n",
              "      <td>14034.121539</td>\n",
              "    </tr>\n",
              "    <tr>\n",
              "      <th>1</th>\n",
              "      <td>17904.52705</td>\n",
              "      <td>21559.253032</td>\n",
              "    </tr>\n",
              "    <tr>\n",
              "      <th>2</th>\n",
              "      <td>5138.25670</td>\n",
              "      <td>3822.969504</td>\n",
              "    </tr>\n",
              "    <tr>\n",
              "      <th>3</th>\n",
              "      <td>20781.48892</td>\n",
              "      <td>13332.631469</td>\n",
              "    </tr>\n",
              "    <tr>\n",
              "      <th>4</th>\n",
              "      <td>1242.26000</td>\n",
              "      <td>-59.462370</td>\n",
              "    </tr>\n",
              "    <tr>\n",
              "      <th>5</th>\n",
              "      <td>3877.30425</td>\n",
              "      <td>7910.740561</td>\n",
              "    </tr>\n",
              "    <tr>\n",
              "      <th>6</th>\n",
              "      <td>2438.05520</td>\n",
              "      <td>6142.539986</td>\n",
              "    </tr>\n",
              "    <tr>\n",
              "      <th>7</th>\n",
              "      <td>10797.33620</td>\n",
              "      <td>14079.869254</td>\n",
              "    </tr>\n",
              "    <tr>\n",
              "      <th>8</th>\n",
              "      <td>14410.93210</td>\n",
              "      <td>12581.101539</td>\n",
              "    </tr>\n",
              "    <tr>\n",
              "      <th>9</th>\n",
              "      <td>18218.16139</td>\n",
              "      <td>4447.097238</td>\n",
              "    </tr>\n",
              "  </tbody>\n",
              "</table>\n",
              "</div>"
            ],
            "text/plain": [
              "        y_test  test predict\n",
              "0  14571.89080  14034.121539\n",
              "1  17904.52705  21559.253032\n",
              "2   5138.25670   3822.969504\n",
              "3  20781.48892  13332.631469\n",
              "4   1242.26000    -59.462370\n",
              "5   3877.30425   7910.740561\n",
              "6   2438.05520   6142.539986\n",
              "7  10797.33620  14079.869254\n",
              "8  14410.93210  12581.101539\n",
              "9  18218.16139   4447.097238"
            ]
          },
          "metadata": {
            "tags": []
          },
          "execution_count": 17
        }
      ]
    },
    {
      "cell_type": "markdown",
      "metadata": {
        "id": "aO5_QpBjuUEc"
      },
      "source": [
        "## 3) 평가\n",
        "## $R^2=1-\\frac{\\sum^{n}_{i=1}(y_i-\\hat{y_i})^2}{\\sum^{n}_{i=1}(y_i-\\bar{y_i})^2}$\n",
        "### 0과 1사이의 값, 1에 가까울 수록 좋은모델(오차(분자)가 0이므로)"
      ]
    },
    {
      "cell_type": "code",
      "metadata": {
        "id": "PE5cDTOquUEd"
      },
      "source": [
        "from sklearn.metrics import r2_score"
      ],
      "execution_count": null,
      "outputs": []
    },
    {
      "cell_type": "code",
      "metadata": {
        "id": "fNF8mMSGuUEe",
        "outputId": "b22796a3-62d6-4460-817f-c99a6a2ee45a"
      },
      "source": [
        "train_r2 = r2_score(y_train, train_predict)\n",
        "test_r2 = r2_score(y_test, test_predict)\n",
        "\n",
        "print('Train R2 score:', train_r2)\n",
        "print('Test R2 score:', test_r2)"
      ],
      "execution_count": null,
      "outputs": [
        {
          "output_type": "stream",
          "text": [
            "Train R2 score: 0.8668894659685831\n",
            "Test R2 score: 0.8135908598635389\n"
          ],
          "name": "stdout"
        }
      ]
    },
    {
      "cell_type": "markdown",
      "metadata": {
        "id": "kbLBTJYGuUEh"
      },
      "source": [
        "## 4) 관측, 예측 산점도"
      ]
    },
    {
      "cell_type": "code",
      "metadata": {
        "id": "mlZ6XH67uUEh"
      },
      "source": [
        "import matplotlib.pyplot as plt"
      ],
      "execution_count": null,
      "outputs": []
    },
    {
      "cell_type": "markdown",
      "metadata": {
        "id": "i9ZYO0sVuUEi"
      },
      "source": [
        "### a) 학습 데이터 셋"
      ]
    },
    {
      "cell_type": "code",
      "metadata": {
        "id": "uAbAPJwiuUEi",
        "outputId": "e59b55ca-4584-4c3d-8220-8a36fae71010"
      },
      "source": [
        "plot_size = 200\n",
        "plt.figure(figsize=(10, 10))\n",
        "plt.scatter(train_predict[:plot_size], y_train[:plot_size])\n",
        "max_value = max(y_train[:plot_size].max(), train_predict[:plot_size].max())\n",
        "plt.plot([0, max_value], [0, max_value], 'k-', color='red')\n",
        "\n",
        "plt.title('Observation, Estimation scatter plot (train)', size=20)\n",
        "plt.xlabel('Predict', size=16)\n",
        "plt.xticks(size=14)\n",
        "plt.ylabel('Observation', size=16)\n",
        "plt.yticks(size=14)\n",
        "plt.show()\n",
        "print('Train R2 score:', train_r2)"
      ],
      "execution_count": null,
      "outputs": [
        {
          "output_type": "display_data",
          "data": {
            "image/png": "[encoded data removed]",
            "text/plain": [
              "<Figure size 720x720 with 1 Axes>"
            ]
          },
          "metadata": {
            "tags": [],
            "needs_background": "light"
          }
        },
        {
          "output_type": "stream",
          "text": [
            "Train R2 score: 0.8668894659685831\n"
          ],
          "name": "stdout"
        }
      ]
    },
    {
      "cell_type": "markdown",
      "metadata": {
        "id": "aen4VFxGuUEj"
      },
      "source": [
        "### b) 테스트 데이터 셋"
      ]
    },
    {
      "cell_type": "code",
      "metadata": {
        "id": "xyAlixCeuUEj",
        "outputId": "005b17dc-9f09-4351-875b-bb21fa0745a0"
      },
      "source": [
        "plot_size = 200\n",
        "plt.figure(figsize=(10, 10))\n",
        "plt.scatter(test_predict[:plot_size], y_test[:plot_size])\n",
        "max_value = max(y_test[:plot_size].max(), test_predict[:plot_size].max())\n",
        "plt.plot([0, max_value], [0, max_value], 'k-', color='red')\n",
        "\n",
        "plt.title('Observation, Estimation scatter plot (test)', size=20)\n",
        "plt.xlabel('Predict', size=16)\n",
        "plt.xticks(size=14)\n",
        "plt.ylabel('Observation', size=16)\n",
        "plt.yticks(size=14)\n",
        "plt.show()\n",
        "print('Test R2 score:', test_r2)"
      ],
      "execution_count": null,
      "outputs": [
        {
          "output_type": "display_data",
          "data": {
            "image/png": "[encoded data removed]",
            "text/plain": [
              "<Figure size 720x720 with 1 Axes>"
            ]
          },
          "metadata": {
            "tags": [],
            "needs_background": "light"
          }
        },
        {
          "output_type": "stream",
          "text": [
            "Test R2 score: 0.8135908598635389\n"
          ],
          "name": "stdout"
        }
      ]
    },
    {
      "cell_type": "markdown",
      "metadata": {
        "id": "eSkyrwRFuUEj"
      },
      "source": [
        "# L1 정규화를 사용한 선형회귀 모델 생성\n",
        "## $Lasso = 선형회귀 + L1 정규화$\n",
        "## $\\sum^{n}_{i=1}(y_{i}-\\hat{y_{i}})+\\alpha \\sum^{p}_{j=1}|\\beta_j|$"
      ]
    },
    {
      "cell_type": "markdown",
      "metadata": {
        "id": "01leTU_YuUEj"
      },
      "source": [
        "## 1) 모델 선언 및 학습"
      ]
    },
    {
      "cell_type": "code",
      "metadata": {
        "id": "HJxI_XP0uUEk",
        "outputId": "8a7e28c8-f45d-4a94-b44f-fa8908e51b2c"
      },
      "source": [
        "from sklearn.linear_model import Lasso\n",
        "regressor = Lasso(alpha=3, max_iter=10000)\n",
        "regressor.fit(X_train, y_train)"
      ],
      "execution_count": null,
      "outputs": [
        {
          "output_type": "execute_result",
          "data": {
            "text/plain": [
              "Lasso(alpha=3, copy_X=True, fit_intercept=True, max_iter=10000, normalize=False,\n",
              "      positive=False, precompute=False, random_state=None, selection='cyclic',\n",
              "      tol=0.0001, warm_start=False)"
            ]
          },
          "metadata": {
            "tags": []
          },
          "execution_count": 31
        }
      ]
    },
    {
      "cell_type": "markdown",
      "metadata": {
        "id": "GRLQw2RFuUEk"
      },
      "source": [
        "## 2) 예측"
      ]
    },
    {
      "cell_type": "code",
      "metadata": {
        "id": "bsCftfNMuUEl"
      },
      "source": [
        "train_predict = regressor.predict(X_train)\n",
        "test_predict = regressor.predict(X_test)"
      ],
      "execution_count": null,
      "outputs": []
    },
    {
      "cell_type": "markdown",
      "metadata": {
        "id": "VZmZrW9nuUEl"
      },
      "source": [
        "## 3) 평가: R2 score"
      ]
    },
    {
      "cell_type": "code",
      "metadata": {
        "id": "4Tahvm_3uUEl",
        "outputId": "d239879f-0846-44c4-9543-941d56d9cfd9"
      },
      "source": [
        "train_r2 = r2_score(y_train, train_predict)\n",
        "test_r2 = r2_score(y_test, test_predict)\n",
        "\n",
        "print('Train R2 score:', train_r2)\n",
        "print('Test R2 score:', test_r2)"
      ],
      "execution_count": null,
      "outputs": [
        {
          "output_type": "stream",
          "text": [
            "Train R2 score: 0.8577133615963727\n",
            "Test R2 score: 0.8415213700756536\n"
          ],
          "name": "stdout"
        }
      ]
    },
    {
      "cell_type": "markdown",
      "metadata": {
        "id": "nlW4SqViuUEl"
      },
      "source": [
        "## 4) 관측, 예측 산점도"
      ]
    },
    {
      "cell_type": "markdown",
      "metadata": {
        "id": "xIqfViW5uUEl"
      },
      "source": [
        "### a) 학습 데이터 셋"
      ]
    },
    {
      "cell_type": "code",
      "metadata": {
        "id": "ugYwTCmtuUEm",
        "outputId": "c98e9101-5f77-45db-98e9-5f39aefeb480"
      },
      "source": [
        "plot_size = 200\n",
        "plt.figure(figsize=(10, 10))\n",
        "plt.scatter(train_predict[:plot_size], y_train[:plot_size])\n",
        "max_value = max(y_train[:plot_size].max(), train_predict[:plot_size].max())\n",
        "plt.plot([0, max_value], [0, max_value], 'k-', color='red')\n",
        "\n",
        "plt.title('Observation, Estimation scatter plot (train)', size=20)\n",
        "plt.xlabel('Predict', size=16)\n",
        "plt.xticks(size=14)\n",
        "plt.ylabel('Observation', size=16)\n",
        "plt.yticks(size=14)\n",
        "plt.show()\n",
        "print('Train R2 score:', train_r2)"
      ],
      "execution_count": null,
      "outputs": [
        {
          "output_type": "display_data",
          "data": {
            "image/png": "[encoded data removed]",
            "text/plain": [
              "<Figure size 720x720 with 1 Axes>"
            ]
          },
          "metadata": {
            "tags": [],
            "needs_background": "light"
          }
        },
        {
          "output_type": "stream",
          "text": [
            "Train R2 score: 0.8577133615963727\n"
          ],
          "name": "stdout"
        }
      ]
    },
    {
      "cell_type": "markdown",
      "metadata": {
        "id": "TFWXhmESuUEm"
      },
      "source": [
        "### b) 테스트 데이터 셋"
      ]
    },
    {
      "cell_type": "code",
      "metadata": {
        "id": "Qlp6k8FLuUEm",
        "outputId": "cba3f059-f78a-4ace-ec13-5571ba0ccc5c"
      },
      "source": [
        "plot_size = 200\n",
        "plt.figure(figsize=(10, 10))\n",
        "plt.scatter(test_predict[:plot_size], y_test[:plot_size])\n",
        "max_value = max(y_test[:plot_size].max(), test_predict[:plot_size].max())\n",
        "plt.plot([0, max_value], [0, max_value], 'k-', color='red')\n",
        "\n",
        "plt.title('Observation, Estimation scatter plot (test)', size=20)\n",
        "plt.xlabel('Predict', size=16)\n",
        "plt.xticks(size=14)\n",
        "plt.ylabel('Observation', size=16)\n",
        "plt.yticks(size=14)\n",
        "plt.show()\n",
        "print('Test R2 score:', test_r2)"
      ],
      "execution_count": null,
      "outputs": [
        {
          "output_type": "display_data",
          "data": {
            "image/png": "[encoded data removed]",
            "text/plain": [
              "<Figure size 720x720 with 1 Axes>"
            ]
          },
          "metadata": {
            "tags": [],
            "needs_background": "light"
          }
        },
        {
          "output_type": "stream",
          "text": [
            "Test R2 score: 0.8415213700756536\n"
          ],
          "name": "stdout"
        }
      ]
    },
    {
      "cell_type": "code",
      "metadata": {
        "id": "n0ofLFL5uUEm"
      },
      "source": [
        ""
      ],
      "execution_count": null,
      "outputs": []
    }
  ]
}